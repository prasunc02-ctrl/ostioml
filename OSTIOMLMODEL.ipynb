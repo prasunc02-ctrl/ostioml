{
 "cells": [
  {
   "cell_type": "code",
   "execution_count": 17,
   "id": "fbe2def6-788b-440b-9814-db1e55376861",
   "metadata": {},
   "outputs": [],
   "source": [
    "import numpy as np\n",
    "import pandas as pd\n",
    "import seaborn as sns\n",
    "import matplotlib.pyplot as plt\n",
    "import pickle"
   ]
  },
  {
   "cell_type": "code",
   "execution_count": 18,
   "id": "afd58282-3437-4a35-9175-00f954d48960",
   "metadata": {},
   "outputs": [
    {
     "name": "stdout",
     "output_type": "stream",
     "text": [
      "Original Data:\n",
      "        Id  Age  Gender         Hormone FHistory              Race  \\\n",
      "0  1734616   69  Female          Normal      Yes             Asian   \n",
      "1  1419098   32  Female          Normal      Yes             Asian   \n",
      "2  1797916   89  Female  Postmenopausal       No         Caucasian   \n",
      "3  1805337   78  Female          Normal       No         Caucasian   \n",
      "4  1351334   38    Male  Postmenopausal      Yes  African American   \n",
      "\n",
      "        Weight CalciumIn   Activity Smoking          MedCondition  \\\n",
      "0  Underweight       Low  Sedentary     Yes  Rheumatoid Arthritis   \n",
      "1  Underweight       Low  Sedentary      No                  None   \n",
      "2       Normal  Adequate     Active      No       Hyperthyroidism   \n",
      "3  Underweight  Adequate  Sedentary     Yes  Rheumatoid Arthritis   \n",
      "4       Normal       Low     Active     Yes  Rheumatoid Arthritis   \n",
      "\n",
      "       Medications Fractures  Osteoporosis  \n",
      "0  Corticosteroids       Yes             1  \n",
      "1             None       Yes             1  \n",
      "2  Corticosteroids        No             1  \n",
      "3  Corticosteroids        No             1  \n",
      "4             None       Yes             1  \n"
     ]
    }
   ],
   "source": [
    "data = pd.read_csv(\"osteoporosisfinal.csv\")\n",
    "print(\"Original Data:\")\n",
    "print(data.head())"
   ]
  },
  {
   "cell_type": "code",
   "execution_count": 19,
   "id": "46e3cdcb-7fb6-4816-aad7-34a9e2279f02",
   "metadata": {},
   "outputs": [
    {
     "name": "stdout",
     "output_type": "stream",
     "text": [
      "\n",
      "Cleaned Data:\n",
      "   Age  Gender         Hormone FHistory       Weight   Activity Smoking  \\\n",
      "0   69  Female          Normal      Yes  Underweight  Sedentary     Yes   \n",
      "1   32  Female          Normal      Yes  Underweight  Sedentary      No   \n",
      "2   89  Female  Postmenopausal       No       Normal     Active      No   \n",
      "3   78  Female          Normal       No  Underweight  Sedentary     Yes   \n",
      "4   38    Male  Postmenopausal      Yes       Normal     Active     Yes   \n",
      "\n",
      "           MedCondition Fractures  Osteoporosis  \n",
      "0  Rheumatoid Arthritis       Yes             1  \n",
      "1                  None       Yes             1  \n",
      "2       Hyperthyroidism        No             1  \n",
      "3  Rheumatoid Arthritis        No             1  \n",
      "4  Rheumatoid Arthritis       Yes             1  \n"
     ]
    }
   ],
   "source": [
    "data_final = data.drop(['Id', \"Race\", \"Medications\",\"CalciumIn\"], axis=1)\n",
    "data_final = data_final.dropna()\n",
    "print(\"\\nCleaned Data:\")\n",
    "print(data_final.head())"
   ]
  },
  {
   "cell_type": "code",
   "execution_count": 20,
   "id": "0040de54-b00d-4c99-ac22-28f1f9a23cd9",
   "metadata": {},
   "outputs": [],
   "source": [
    "from sklearn.preprocessing import LabelEncoder\n",
    "le = LabelEncoder()"
   ]
  },
  {
   "cell_type": "code",
   "execution_count": 21,
   "id": "23eb12e2-70e1-4d4d-b656-8be40a4c8cf6",
   "metadata": {},
   "outputs": [],
   "source": [
    "for col in ['Gender','Hormone','FHistory','Weight','Activity','Smoking','MedCondition','Fractures']:\n",
    "    data_final[col] = le.fit_transform(data_final[col])"
   ]
  },
  {
   "cell_type": "code",
   "execution_count": 22,
   "id": "5afb3ac7-589c-4406-8c54-709e33ea4398",
   "metadata": {},
   "outputs": [
    {
     "name": "stdout",
     "output_type": "stream",
     "text": [
      "\n",
      "Encoded Data:\n",
      "   Age  Gender  Hormone  FHistory  Weight  Activity  Smoking  MedCondition  \\\n",
      "0   69       0        0         1       1         1        1             2   \n",
      "1   32       0        0         1       1         1        0             1   \n",
      "2   89       0        1         0       0         0        0             0   \n",
      "3   78       0        0         0       1         1        1             2   \n",
      "4   38       1        1         1       0         0        1             2   \n",
      "\n",
      "   Fractures  Osteoporosis  \n",
      "0          1             1  \n",
      "1          1             1  \n",
      "2          0             1  \n",
      "3          0             1  \n",
      "4          1             1  \n"
     ]
    }
   ],
   "source": [
    "print(\"\\nEncoded Data:\")\n",
    "print(data_final.head())"
   ]
  },
  {
   "cell_type": "code",
   "execution_count": 23,
   "id": "0b007fcb-abb4-465e-89d5-6921a89d1d71",
   "metadata": {},
   "outputs": [],
   "source": [
    "X = data_final.iloc[:, :-1].values\n",
    "y = data_final.iloc[:, -1].values"
   ]
  },
  {
   "cell_type": "code",
   "execution_count": 24,
   "id": "4f52c40f-5716-4f30-aef9-a2be3370851d",
   "metadata": {},
   "outputs": [],
   "source": [
    "from sklearn.model_selection import train_test_split\n",
    "X_train, X_test, y_train, y_test = train_test_split(X, y, test_size=0.2, random_state=0, shuffle=True)\n"
   ]
  },
  {
   "cell_type": "code",
   "execution_count": 25,
   "id": "3850485f-51b2-4494-bae1-da4513631992",
   "metadata": {},
   "outputs": [],
   "source": [
    "from sklearn.metrics import accuracy_score, classification_report, confusion_matrix\n",
    "\n",
    "results = {}"
   ]
  },
  {
   "cell_type": "code",
   "execution_count": 26,
   "id": "d5ccb515-fa16-4855-bb4b-1bfbaed0c391",
   "metadata": {},
   "outputs": [],
   "source": [
    "# Logistic Regression\n",
    "from sklearn.linear_model import LogisticRegression\n",
    "logm = LogisticRegression(max_iter=1000)\n",
    "logm.fit(X_train, y_train)\n",
    "logm_pred = logm.predict(X_test)\n",
    "results[\"Logistic Regression\"] = accuracy_score(y_test, logm_pred)"
   ]
  },
  {
   "cell_type": "code",
   "execution_count": 27,
   "id": "24a7ab2a-b4ba-47d8-8b03-de303eaf1d75",
   "metadata": {},
   "outputs": [],
   "source": [
    "from sklearn.neighbors import KNeighborsClassifier\n",
    "knn = KNeighborsClassifier(n_neighbors=5)\n",
    "knn.fit(X_train, y_train)\n",
    "knn_pred = knn.predict(X_test)\n",
    "results[\"KNN\"] = accuracy_score(y_test, knn_pred)"
   ]
  },
  {
   "cell_type": "code",
   "execution_count": 28,
   "id": "a79fa6cb-0a5d-4a4f-8888-431efe04d8c9",
   "metadata": {},
   "outputs": [],
   "source": [
    "from sklearn.naive_bayes import GaussianNB\n",
    "nb = GaussianNB()\n",
    "nb.fit(X_train, y_train)\n",
    "nb_pred = nb.predict(X_test)\n",
    "results[\"Naive Bayes\"] = accuracy_score(y_test, nb_pred)\n"
   ]
  },
  {
   "cell_type": "code",
   "execution_count": 29,
   "id": "f11b8705-3b99-43b4-86d4-1d649cee23cf",
   "metadata": {},
   "outputs": [],
   "source": [
    "from sklearn.svm import SVC\n",
    "svm_model = SVC(kernel=\"linear\")\n",
    "svm_model.fit(X_train, y_train)\n",
    "svm_pred = svm_model.predict(X_test)\n",
    "results[\"SVM\"] = accuracy_score(y_test, svm_pred)"
   ]
  },
  {
   "cell_type": "code",
   "execution_count": 30,
   "id": "8d07d8e8-4580-4741-b018-8b8fbc9ae520",
   "metadata": {},
   "outputs": [
    {
     "name": "stdout",
     "output_type": "stream",
     "text": [
      "\n",
      "Model Accuracies:\n",
      "Logistic Regression: 0.83\n",
      "KNN: 0.89\n",
      "Naive Bayes: 0.87\n",
      "SVM: 0.86\n"
     ]
    }
   ],
   "source": [
    "print(\"\\nModel Accuracies:\")\n",
    "for model, acc in results.items():\n",
    "    print(f\"{model}: {acc:.2f}\")"
   ]
  },
  {
   "cell_type": "code",
   "execution_count": 31,
   "id": "e43a8e35-b891-44f4-8a87-95237a7bb2b3",
   "metadata": {},
   "outputs": [],
   "source": [
    "best_model = knn"
   ]
  },
  {
   "cell_type": "code",
   "execution_count": 32,
   "id": "487035d4-3794-4d80-9c76-49d4863f964b",
   "metadata": {},
   "outputs": [
    {
     "name": "stdout",
     "output_type": "stream",
     "text": [
      "\n",
      " Model saved as model.pkl\n"
     ]
    }
   ],
   "source": [
    "pickle.dump(best_model, open(\"model.pkl\", \"wb\"))\n",
    "print(\"\\n Model saved as model.pkl\")"
   ]
  },
  {
   "cell_type": "code",
   "execution_count": null,
   "id": "c29c24f1-762c-42f1-a65f-e4620fdf5831",
   "metadata": {},
   "outputs": [],
   "source": []
  }
 ],
 "metadata": {
  "kernelspec": {
   "display_name": "Python 3 (ipykernel)",
   "language": "python",
   "name": "python3"
  },
  "language_info": {
   "codemirror_mode": {
    "name": "ipython",
    "version": 3
   },
   "file_extension": ".py",
   "mimetype": "text/x-python",
   "name": "python",
   "nbconvert_exporter": "python",
   "pygments_lexer": "ipython3",
   "version": "3.11.2"
  }
 },
 "nbformat": 4,
 "nbformat_minor": 5
}
